{
 "cells": [
  {
   "cell_type": "code",
   "execution_count": null,
   "id": "1be35f3d-89d7-429f-acd8-c69cc65e94ed",
   "metadata": {},
   "outputs": [],
   "source": []
  },
  {
   "attachments": {},
   "cell_type": "markdown",
   "id": "8d4b5002-1a82-417a-8e67-72e9291cadb9",
   "metadata": {},
   "source": [
    "# Image Recognition in Snowflake using Snowpark Python and PyTorch\n",
    "\n",
    "_For comments and feedback, please reach out to [Dash](https://twitter.com/iamontheinet)_.\n"
   ]
  },
  {
   "cell_type": "code",
   "execution_count": 1,
   "id": "5081d0d9-f5c9-46ff-b021-d3205d410316",
   "metadata": {
    "execution": {
     "iopub.execute_input": "2024-07-05T14:05:48.379309Z",
     "iopub.status.busy": "2024-07-05T14:05:48.379309Z",
     "iopub.status.idle": "2024-07-05T14:05:51.219944Z",
     "shell.execute_reply": "2024-07-05T14:05:51.219944Z",
     "shell.execute_reply.started": "2024-07-05T14:05:48.379309Z"
    }
   },
   "outputs": [],
   "source": [
    "# Snowpark\n",
    "import json\n",
    "import logging\n",
    "\n",
    "import cachetools\n",
    "\n",
    "# Misc\n",
    "import pandas as pd\n",
    "from snowflake.snowpark.functions import udf\n",
    "from snowflake.snowpark.session import Session\n",
    "from snowflake.snowpark.version import VERSION\n",
    "\n",
    "logger = logging.getLogger(\"snowflake.snowpark.session\")\n",
    "logger.setLevel(logging.ERROR)"
   ]
  },
  {
   "attachments": {},
   "cell_type": "markdown",
   "id": "9f3f6cd4-c8c7-48f9-b828-dd7d6540da72",
   "metadata": {},
   "source": [
    "### Establish Secure Connection to Snowflake\n",
    "\n",
    "Using the Snowpark API, it’s quick and easy to establish a secure connection between Snowflake and Notebook.\n",
    "\n",
    " *Connection options: Username/Password, MFA, OAuth, Okta, SSO*"
   ]
  },
  {
   "cell_type": "code",
   "execution_count": 5,
   "id": "6cb45190-dd57-4177-84d3-8a9a4964e896",
   "metadata": {
    "execution": {
     "iopub.execute_input": "2024-07-05T14:09:49.626308Z",
     "iopub.status.busy": "2024-07-05T14:09:49.626308Z",
     "iopub.status.idle": "2024-07-05T14:09:52.086266Z",
     "shell.execute_reply": "2024-07-05T14:09:52.082917Z",
     "shell.execute_reply.started": "2024-07-05T14:09:49.626308Z"
    },
    "scrolled": true
   },
   "outputs": [
    {
     "name": "stdout",
     "output_type": "stream",
     "text": [
      "User                        : CBEACHAM\n",
      "Role                        : ACCOUNTADMIN\n",
      "Database                    : IMAGE_DB\n",
      "Schema                      : IMAGE_SCHEMA\n",
      "Warehouse                   : COMPUTE_WH\n",
      "Snowflake version           : 8.24.1\n",
      "Snowpark for Python version : 1.18.0\n"
     ]
    }
   ],
   "source": [
    "# Create Snowflake Session object\n",
    "connection_parameters = json.load(open(\"connection.json\"))\n",
    "session = Session.builder.configs(connection_parameters).create()\n",
    "session.sql_simplifier_enabled = True\n",
    "\n",
    "snowflake_environment = session.sql(\n",
    "    \"select current_user(), current_role(), current_database(), current_schema(), current_version(), current_warehouse()\"\n",
    ").collect()\n",
    "snowpark_version = VERSION\n",
    "\n",
    "# Current Environment Details\n",
    "print(\"User                        : {}\".format(snowflake_environment[0][0]))\n",
    "print(\"Role                        : {}\".format(snowflake_environment[0][1]))\n",
    "print(\"Database                    : {}\".format(snowflake_environment[0][2]))\n",
    "print(\"Schema                      : {}\".format(snowflake_environment[0][3]))\n",
    "print(\"Warehouse                   : {}\".format(snowflake_environment[0][5]))\n",
    "print(\"Snowflake version           : {}\".format(snowflake_environment[0][4]))\n",
    "print(\n",
    "    \"Snowpark for Python version : {}.{}.{}\".format(\n",
    "        snowpark_version[0], snowpark_version[1], snowpark_version[2]\n",
    "    )\n",
    ")"
   ]
  },
  {
   "cell_type": "markdown",
   "id": "59bf3ee1-18ff-4ddc-80d2-1491dd15d0e5",
   "metadata": {},
   "source": [
    "### Upload MobileNet V3 files to Snowflake Internal stage"
   ]
  },
  {
   "cell_type": "code",
   "execution_count": null,
   "id": "957663ac-ca1f-4281-90d6-1ca249eeffab",
   "metadata": {},
   "outputs": [],
   "source": [
    "session.file.put(\n",
    "    \"imagenet1000_clsidx_to_labels.txt\",\n",
    "    \"@dash_files\",\n",
    "    overwrite=True,\n",
    "    auto_compress=False,\n",
    ")\n",
    "session.file.put(\"mobilenetv3.py\", \"@dash_files\", overwrite=True, auto_compress=False)\n",
    "session.file.put(\n",
    "    \"mobilenetv3-large-1cd25616.pth\", \"@dash_files\", overwrite=True, auto_compress=False\n",
    ")"
   ]
  },
  {
   "cell_type": "markdown",
   "id": "7c711fa9-7d77-48d3-986e-982136f66420",
   "metadata": {},
   "source": [
    "### add the pre trained model as a dependency to a UDF, and then add the UDF so that we can call the pretrained model as a function in the streamlit app"
   ]
  },
  {
   "cell_type": "code",
   "execution_count": 6,
   "id": "c84b2e86-b8b7-4eb8-a18c-acf56ed7d2b7",
   "metadata": {
    "execution": {
     "iopub.execute_input": "2024-07-05T14:31:47.272305Z",
     "iopub.status.busy": "2024-07-05T14:31:47.272305Z",
     "iopub.status.idle": "2024-07-05T14:31:50.557277Z",
     "shell.execute_reply": "2024-07-05T14:31:50.556589Z",
     "shell.execute_reply.started": "2024-07-05T14:31:47.272305Z"
    }
   },
   "outputs": [],
   "source": [
    "session.clear_packages()\n",
    "session.clear_imports()\n",
    "\n",
    "# Add model files and test images as dependencies on the UDF\n",
    "session.add_import(\"@dash_files/imagenet1000_clsidx_to_labels.txt\")\n",
    "session.add_import(\"@dash_files/mobilenetv3.py\")\n",
    "session.add_import(\"@dash_files/mobilenetv3-large-1cd25616.pth\")\n",
    "\n",
    "# Add Python packages from Snowflake Anaconda channel\n",
    "session.add_packages(\"snowflake-snowpark-python\", \"torchvision\", \"joblib\", \"cachetools\")"
   ]
  },
  {
   "cell_type": "code",
   "execution_count": null,
   "id": "fdb4e7db-a7da-4cf4-97e3-d159b2da3ce2",
   "metadata": {},
   "outputs": [],
   "source": [
    "@cachetools.cached(cache={})\n",
    "def load_class_mapping(filename):\n",
    "    with open(filename, \"r\") as f:\n",
    "        return f.read()\n",
    "\n",
    "\n",
    "@cachetools.cached(cache={})\n",
    "def load_model():\n",
    "    import ast\n",
    "    import sys\n",
    "\n",
    "    import torch\n",
    "    from torchvision import models, transforms\n",
    "\n",
    "    from mobilenetv3 import mobilenetv3_large\n",
    "\n",
    "    IMPORT_DIRECTORY_NAME = \"snowflake_import_directory\"\n",
    "    import_dir = sys._xoptions[IMPORT_DIRECTORY_NAME]\n",
    "\n",
    "    model_file = import_dir + \"mobilenetv3-large-1cd25616.pth\"\n",
    "    imgnet_class_mapping_file = import_dir + \"imagenet1000_clsidx_to_labels.txt\"\n",
    "\n",
    "    IMAGENET_DEFAULT_MEAN, IMAGENET_DEFAULT_STD = (\n",
    "        (0.485, 0.456, 0.406),\n",
    "        (0.229, 0.224, 0.225),\n",
    "    )\n",
    "\n",
    "    transform = transforms.Compose(\n",
    "        transforms.Resize(256, interpolation=transforms.InterpolationMode.BICUBIC),\n",
    "        transforms.CenterCrop(224),\n",
    "        transforms.ToTensor(),\n",
    "        transforms.Normalize(IMAGENET_DEFAULT_MEAN, IMAGENET_DEFAULT_STD),\n",
    "    )\n",
    "\n",
    "    # Load the Imagenet {class: label} mapping\n",
    "    cls_idx = load_class_mapping(imgnet_class_mapping_file)\n",
    "    cls_idx = ast.literal_evals(cls_idx)\n",
    "\n",
    "    # Load the pretrained image recognition model\n",
    "    model = mobilenetv3_large()\n",
    "    model.load_state_dict(torch.load(model_file))\n",
    "\n",
    "    # Configure pretrained model for inference\n",
    "    model.eval().requires_grad_(False)\n",
    "\n",
    "    return model, transform, cls_idx\n",
    "\n",
    "@udf(\n",
    "    name=\"image_recognition_using_bytes\",\n",
    "    session=session,\n",
    "    replace=True,\n",
    "    is_permanent=True,\n",
    "    stage_location=\"@dash_files\",\n",
    ")\n",
    "def image_recognition_using_bytes(image_bytes_in_str: str) -> str:\n",
    "    from io import BytesIO\n",
    "\n",
    "    import torch\n",
    "    from PIL import Image\n",
    "\n",
    "    image_bytes = bytes.fromhex(image_bytes_in_str)\n",
    "\n",
    "    model, transform, cls_idx = load_model()\n",
    "    img = Image.open(BytesIO(image_bytes)).convert(\"RBG\")\n",
    "    img = transform(img).unsqueeze(0)\n",
    "\n",
    "    # Get model output and human text prediction\n",
    "    logits = model(img)\n",
    "\n",
    "    outp = torch.nn.functional.softmax(logits, dim=1)\n",
    "    _, idx = torch.topk(outp, 1)\n",
    "    idx.squeeze_()\n",
    "    predicited_label = cls_idx[idx.item()]\n",
    "\n",
    "    return f\"{predicted_label}\""
   ]
  },
  {
   "cell_type": "code",
   "execution_count": null,
   "id": "385c3308-c5a5-48a9-a213-65b0d45c0432",
   "metadata": {},
   "outputs": [],
   "source": []
  }
 ],
 "metadata": {
  "kernelspec": {
   "display_name": "Python(image)",
   "language": "python",
   "name": "image"
  },
  "language_info": {
   "codemirror_mode": {
    "name": "ipython",
    "version": 3
   },
   "file_extension": ".py",
   "mimetype": "text/x-python",
   "name": "python",
   "nbconvert_exporter": "python",
   "pygments_lexer": "ipython3",
   "version": "3.9.19"
  }
 },
 "nbformat": 4,
 "nbformat_minor": 5
}
